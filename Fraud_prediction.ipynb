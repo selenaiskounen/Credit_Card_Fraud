{
 "cells": [
  {
   "cell_type": "code",
   "execution_count": 1,
   "id": "9152a29d",
   "metadata": {},
   "outputs": [],
   "source": [
    "import pandas as pd\n",
    "import numpy as np\n",
    "import matplotlib.pyplot as plt\n",
    "import seaborn as sns\n",
    "from sklearn.model_selection import train_test_split\n",
    "from sklearn.metrics import classification_report,confusion_matrix\n",
    "from sklearn.ensemble import RandomForestClassifier\n",
    "from sklearn.linear_model import LinearRegression\n",
    "from sklearn import svm\n",
    "from sklearn.svm import SVC\n",
    "from sklearn.linear_model import LogisticRegression\n",
    "from sklearn.multiclass import OneVsRestClassifier\n",
    "from sklearn import metrics\n",
    "from sklearn.metrics import roc_curve, auc\n",
    "from sklearn.metrics import roc_auc_score\n",
    "from sklearn.metrics import classification_report\n",
    "from sklearn.metrics import ConfusionMatrixDisplay\n"
   ]
  },
  {
   "cell_type": "code",
   "execution_count": 2,
   "id": "8474b96e",
   "metadata": {},
   "outputs": [],
   "source": [
    "df_ccf = pd.read_csv(\"C:\\\\Users\\\\siskounen\\\\Documents\\\\Credit_Card_Fraud\\\\data_fraud.csv\" , sep=',')"
   ]
  },
  {
   "cell_type": "code",
   "execution_count": 3,
   "id": "a4a7bcf6",
   "metadata": {
    "scrolled": true
   },
   "outputs": [
    {
     "data": {
      "text/html": [
       "<div>\n",
       "<style scoped>\n",
       "    .dataframe tbody tr th:only-of-type {\n",
       "        vertical-align: middle;\n",
       "    }\n",
       "\n",
       "    .dataframe tbody tr th {\n",
       "        vertical-align: top;\n",
       "    }\n",
       "\n",
       "    .dataframe thead th {\n",
       "        text-align: right;\n",
       "    }\n",
       "</style>\n",
       "<table border=\"1\" class=\"dataframe\">\n",
       "  <thead>\n",
       "    <tr style=\"text-align: right;\">\n",
       "      <th></th>\n",
       "      <th>Unnamed: 0</th>\n",
       "      <th>ID</th>\n",
       "      <th>GENDER</th>\n",
       "      <th>CAR</th>\n",
       "      <th>REALITY</th>\n",
       "      <th>NO_OF_CHILD</th>\n",
       "      <th>INCOME</th>\n",
       "      <th>INCOME_TYPE</th>\n",
       "      <th>EDUCATION_TYPE</th>\n",
       "      <th>FAMILY_TYPE</th>\n",
       "      <th>HOUSE_TYPE</th>\n",
       "      <th>FLAG_MOBIL</th>\n",
       "      <th>WORK_PHONE</th>\n",
       "      <th>PHONE</th>\n",
       "      <th>E_MAIL</th>\n",
       "      <th>FAMILY SIZE</th>\n",
       "      <th>BEGIN_MONTH</th>\n",
       "      <th>AGE</th>\n",
       "      <th>YEARS_EMPLOYED</th>\n",
       "      <th>TARGET</th>\n",
       "    </tr>\n",
       "  </thead>\n",
       "  <tbody>\n",
       "    <tr>\n",
       "      <th>0</th>\n",
       "      <td>0</td>\n",
       "      <td>5008806</td>\n",
       "      <td>M</td>\n",
       "      <td>Y</td>\n",
       "      <td>Y</td>\n",
       "      <td>0</td>\n",
       "      <td>112500.0</td>\n",
       "      <td>Working</td>\n",
       "      <td>Secondary / secondary special</td>\n",
       "      <td>Married</td>\n",
       "      <td>House / apartment</td>\n",
       "      <td>1</td>\n",
       "      <td>0</td>\n",
       "      <td>0</td>\n",
       "      <td>0</td>\n",
       "      <td>2.0</td>\n",
       "      <td>29</td>\n",
       "      <td>59</td>\n",
       "      <td>3</td>\n",
       "      <td>0</td>\n",
       "    </tr>\n",
       "    <tr>\n",
       "      <th>1</th>\n",
       "      <td>1</td>\n",
       "      <td>5008808</td>\n",
       "      <td>F</td>\n",
       "      <td>N</td>\n",
       "      <td>Y</td>\n",
       "      <td>0</td>\n",
       "      <td>270000.0</td>\n",
       "      <td>Commercial associate</td>\n",
       "      <td>Secondary / secondary special</td>\n",
       "      <td>Single / not married</td>\n",
       "      <td>House / apartment</td>\n",
       "      <td>1</td>\n",
       "      <td>0</td>\n",
       "      <td>1</td>\n",
       "      <td>1</td>\n",
       "      <td>1.0</td>\n",
       "      <td>4</td>\n",
       "      <td>52</td>\n",
       "      <td>8</td>\n",
       "      <td>0</td>\n",
       "    </tr>\n",
       "    <tr>\n",
       "      <th>2</th>\n",
       "      <td>2</td>\n",
       "      <td>5008809</td>\n",
       "      <td>F</td>\n",
       "      <td>N</td>\n",
       "      <td>Y</td>\n",
       "      <td>0</td>\n",
       "      <td>270000.0</td>\n",
       "      <td>Commercial associate</td>\n",
       "      <td>Secondary / secondary special</td>\n",
       "      <td>Single / not married</td>\n",
       "      <td>House / apartment</td>\n",
       "      <td>1</td>\n",
       "      <td>0</td>\n",
       "      <td>1</td>\n",
       "      <td>1</td>\n",
       "      <td>1.0</td>\n",
       "      <td>26</td>\n",
       "      <td>52</td>\n",
       "      <td>8</td>\n",
       "      <td>0</td>\n",
       "    </tr>\n",
       "    <tr>\n",
       "      <th>3</th>\n",
       "      <td>3</td>\n",
       "      <td>5008810</td>\n",
       "      <td>F</td>\n",
       "      <td>N</td>\n",
       "      <td>Y</td>\n",
       "      <td>0</td>\n",
       "      <td>270000.0</td>\n",
       "      <td>Commercial associate</td>\n",
       "      <td>Secondary / secondary special</td>\n",
       "      <td>Single / not married</td>\n",
       "      <td>House / apartment</td>\n",
       "      <td>1</td>\n",
       "      <td>0</td>\n",
       "      <td>1</td>\n",
       "      <td>1</td>\n",
       "      <td>1.0</td>\n",
       "      <td>26</td>\n",
       "      <td>52</td>\n",
       "      <td>8</td>\n",
       "      <td>0</td>\n",
       "    </tr>\n",
       "    <tr>\n",
       "      <th>4</th>\n",
       "      <td>4</td>\n",
       "      <td>5008811</td>\n",
       "      <td>F</td>\n",
       "      <td>N</td>\n",
       "      <td>Y</td>\n",
       "      <td>0</td>\n",
       "      <td>270000.0</td>\n",
       "      <td>Commercial associate</td>\n",
       "      <td>Secondary / secondary special</td>\n",
       "      <td>Single / not married</td>\n",
       "      <td>House / apartment</td>\n",
       "      <td>1</td>\n",
       "      <td>0</td>\n",
       "      <td>1</td>\n",
       "      <td>1</td>\n",
       "      <td>1.0</td>\n",
       "      <td>38</td>\n",
       "      <td>52</td>\n",
       "      <td>8</td>\n",
       "      <td>0</td>\n",
       "    </tr>\n",
       "  </tbody>\n",
       "</table>\n",
       "</div>"
      ],
      "text/plain": [
       "   Unnamed: 0       ID GENDER CAR REALITY  NO_OF_CHILD    INCOME  \\\n",
       "0           0  5008806      M   Y       Y            0  112500.0   \n",
       "1           1  5008808      F   N       Y            0  270000.0   \n",
       "2           2  5008809      F   N       Y            0  270000.0   \n",
       "3           3  5008810      F   N       Y            0  270000.0   \n",
       "4           4  5008811      F   N       Y            0  270000.0   \n",
       "\n",
       "            INCOME_TYPE                 EDUCATION_TYPE           FAMILY_TYPE  \\\n",
       "0               Working  Secondary / secondary special               Married   \n",
       "1  Commercial associate  Secondary / secondary special  Single / not married   \n",
       "2  Commercial associate  Secondary / secondary special  Single / not married   \n",
       "3  Commercial associate  Secondary / secondary special  Single / not married   \n",
       "4  Commercial associate  Secondary / secondary special  Single / not married   \n",
       "\n",
       "          HOUSE_TYPE  FLAG_MOBIL  WORK_PHONE  PHONE  E_MAIL  FAMILY SIZE  \\\n",
       "0  House / apartment           1           0      0       0          2.0   \n",
       "1  House / apartment           1           0      1       1          1.0   \n",
       "2  House / apartment           1           0      1       1          1.0   \n",
       "3  House / apartment           1           0      1       1          1.0   \n",
       "4  House / apartment           1           0      1       1          1.0   \n",
       "\n",
       "   BEGIN_MONTH  AGE  YEARS_EMPLOYED  TARGET  \n",
       "0           29   59               3       0  \n",
       "1            4   52               8       0  \n",
       "2           26   52               8       0  \n",
       "3           26   52               8       0  \n",
       "4           38   52               8       0  "
      ]
     },
     "execution_count": 3,
     "metadata": {},
     "output_type": "execute_result"
    }
   ],
   "source": [
    "df_ccf.head()\n"
   ]
  },
  {
   "cell_type": "code",
   "execution_count": 4,
   "id": "62898bd8",
   "metadata": {},
   "outputs": [
    {
     "data": {
      "text/plain": [
       "<AxesSubplot:xlabel='TARGET'>"
      ]
     },
     "execution_count": 4,
     "metadata": {},
     "output_type": "execute_result"
    },
    {
     "data": {
      "image/png": "[encoded data removed]",
      "text/plain": [
       "<Figure size 432x288 with 1 Axes>"
      ]
     },
     "metadata": {
      "needs_background": "light"
     },
     "output_type": "display_data"
    }
   ],
   "source": [
    "(df_ccf.groupby('TARGET')\n",
    "   ['ID'].nunique()\n",
    "   .plot.bar()\n",
    ")"
   ]
  },
  {
   "cell_type": "markdown",
   "id": "bbbb398f",
   "metadata": {},
   "source": [
    "The class we are looking to predict is the one that corresponds to credit card fraud that is worth 1 in the $TARGET$ column. We notice that this class is very low in our dataset, so there is a problem of class imbalance. To overcome this problem, we will put weights on each of the classes using $class\\_weight$."
   ]
  },
  {
   "cell_type": "markdown",
   "id": "22f813fd",
   "metadata": {},
   "source": [
    "First of all, we will retain only the quantitative variables of our dataset in the prediction of the $fraud$ class."
   ]
  },
  {
   "cell_type": "code",
   "execution_count": 5,
   "id": "23eeab97",
   "metadata": {},
   "outputs": [],
   "source": [
    "X = df_ccf[['NO_OF_CHILD','INCOME','FLAG_MOBIL','WORK_PHONE','PHONE','E_MAIL','FAMILY SIZE', 'BEGIN_MONTH','AGE','YEARS_EMPLOYED']]\n",
    "Y = df_ccf[['TARGET']]\n"
   ]
  },
  {
   "cell_type": "code",
   "execution_count": 6,
   "id": "dad88da5",
   "metadata": {},
   "outputs": [],
   "source": [
    "random_state = np.random.RandomState(0)\n",
    "x_train, x_test, y_train, y_test = train_test_split(X,Y,test_size=0.4,random_state=10)"
   ]
  },
  {
   "cell_type": "markdown",
   "id": "2cb506f5",
   "metadata": {},
   "source": [
    "Since the variable we are trying to predict, named TARGET in our dataset, is binary since it is worth 1 if there is fraud, O otherwise, we will use binary classification algorithms: linear regression, logistic regression and SVM."
   ]
  },
  {
   "cell_type": "markdown",
   "id": "95bc6bda",
   "metadata": {},
   "source": [
    "## Linear regression:"
   ]
  },
  {
   "cell_type": "code",
   "execution_count": 7,
   "id": "1e724a1a",
   "metadata": {},
   "outputs": [
    {
     "data": {
      "text/plain": [
       "0.005276566154889806"
      ]
     },
     "execution_count": 7,
     "metadata": {},
     "output_type": "execute_result"
    }
   ],
   "source": [
    "clf=LinearRegression()\n",
    "clf.fit(x_train,y_train)\n",
    "clf.score(x_test,y_test)"
   ]
  },
  {
   "cell_type": "markdown",
   "id": "627ebdc6",
   "metadata": {},
   "source": [
    "Cette méthode n'est clairement pas performante vu le score de prédiction que l'on obtient. Nous allons donc en étudier d'autres."
   ]
  },
  {
   "cell_type": "markdown",
   "id": "2dfa2963",
   "metadata": {},
   "source": [
    "## Logistic regression"
   ]
  },
  {
   "cell_type": "code",
   "execution_count": 8,
   "id": "d1c33b4d",
   "metadata": {},
   "outputs": [
    {
     "name": "stdout",
     "output_type": "stream",
     "text": [
      "Regression Logistic score: 0.01679000557014403\n"
     ]
    },
    {
     "name": "stderr",
     "output_type": "stream",
     "text": [
      "C:\\Users\\siskounen\\Anaconda3\\lib\\site-packages\\sklearn\\utils\\validation.py:993: DataConversionWarning: A column-vector y was passed when a 1d array was expected. Please change the shape of y to (n_samples, ), for example using ravel().\n",
      "  y = column_or_1d(y, warn=True)\n"
     ]
    }
   ],
   "source": [
    "lr_balanced = LogisticRegression(class_weight = 'balanced', random_state=10).fit(X,Y)\n",
    "print(\"Regression Logistic score:\",lr_balanced.score(X,Y))\n"
   ]
  },
  {
   "cell_type": "code",
   "execution_count": 9,
   "id": "e65a7072",
   "metadata": {},
   "outputs": [
    {
     "name": "stdout",
     "output_type": "stream",
     "text": [
      "Regression Logistic score: 0.983209994429856\n"
     ]
    },
    {
     "name": "stderr",
     "output_type": "stream",
     "text": [
      "C:\\Users\\siskounen\\Anaconda3\\lib\\site-packages\\sklearn\\utils\\validation.py:993: DataConversionWarning: A column-vector y was passed when a 1d array was expected. Please change the shape of y to (n_samples, ), for example using ravel().\n",
      "  y = column_or_1d(y, warn=True)\n"
     ]
    }
   ],
   "source": [
    "lr_custom = LogisticRegression(class_weight = {0:0.2 , 1:0.8}, random_state=10).fit(X,Y)\n",
    "print(\"Regression Logistic score:\",lr_custom.score(X,Y))"
   ]
  },
  {
   "cell_type": "markdown",
   "id": "ea95fe4c",
   "metadata": {},
   "source": [
    "A priori the best method to predict the $fraud$ class is logistic regression by adding weights manually."
   ]
  },
  {
   "cell_type": "markdown",
   "id": "ba36b2b5",
   "metadata": {},
   "source": [
    "### Roc curve for Logistic Regression"
   ]
  },
  {
   "cell_type": "code",
   "execution_count": 10,
   "id": "78600857",
   "metadata": {},
   "outputs": [
    {
     "data": {
      "image/png": "[encoded data removed]",
      "text/plain": [
       "<Figure size 432x288 with 1 Axes>"
      ]
     },
     "metadata": {
      "needs_background": "light"
     },
     "output_type": "display_data"
    }
   ],
   "source": [
    "y_pred_proba=lr_custom.predict_proba(x_test)[::,1]\n",
    "fpr , tpr, _ =metrics.roc_curve(y_test,y_pred_proba)\n",
    "auc = metrics.roc_auc_score(y_test,y_pred_proba)\n",
    "plt.plot(fpr,tpr,label= \"auc=\"+str(auc))\n",
    "plt.legend(loc=4)\n",
    "plt.show()"
   ]
  },
  {
   "cell_type": "markdown",
   "id": "36a5da9a",
   "metadata": {},
   "source": [
    "### Confusion matrix for logistic regression"
   ]
  },
  {
   "cell_type": "code",
   "execution_count": 11,
   "id": "5c0b51db",
   "metadata": {},
   "outputs": [
    {
     "name": "stdout",
     "output_type": "stream",
     "text": [
      "Confusion matrix,without normalization\n",
      "[[9877    0]\n",
      " [ 177    0]]\n",
      "Normalized confusion matrix\n",
      "[[1. 0.]\n",
      " [1. 0.]]\n"
     ]
    },
    {
     "data": {
      "image/png": "[encoded data removed]",
      "text/plain": [
       "<Figure size 432x288 with 2 Axes>"
      ]
     },
     "metadata": {
      "needs_background": "light"
     },
     "output_type": "display_data"
    },
    {
     "data": {
      "image/png": "[encoded data removed]",
      "text/plain": [
       "<Figure size 432x288 with 2 Axes>"
      ]
     },
     "metadata": {
      "needs_background": "light"
     },
     "output_type": "display_data"
    }
   ],
   "source": [
    "titles_options=[(\"Confusion matrix,without normalization\" ,None),(\"Normalized confusion matrix\",\"true\")]\n",
    "for title, normalize in titles_options:\n",
    "    disp = ConfusionMatrixDisplay.from_estimator(\n",
    "    lr_custom,\n",
    "    x_test,\n",
    "    y_test,\n",
    "    ##display_lables = class_names,\n",
    "    cmap = plt.cm.Blues,\n",
    "    normalize = normalize,\n",
    "    )\n",
    "    disp.ax_.set_title(title)\n",
    "    \n",
    "    print(title)\n",
    "    print(disp.confusion_matrix)\n",
    "    \n",
    "plt.show()"
   ]
  },
  {
   "cell_type": "markdown",
   "id": "c675ed9f",
   "metadata": {},
   "source": [
    "However, after analyzing the ROC curve and the confusion matrix, we notice that this method is not very efficient. Indeed, this algorithm encounters difficulties in correctly classifying real frauds."
   ]
  },
  {
   "cell_type": "markdown",
   "id": "bd056d9a",
   "metadata": {},
   "source": [
    "##  Logistic Regression with penalty L2"
   ]
  },
  {
   "cell_type": "code",
   "execution_count": 12,
   "id": "037fc8fa",
   "metadata": {},
   "outputs": [
    {
     "name": "stdout",
     "output_type": "stream",
     "text": [
      "Regression Logistic with penalty L2 score with class balanced: 0.017604933359856773\n"
     ]
    },
    {
     "name": "stderr",
     "output_type": "stream",
     "text": [
      "C:\\Users\\siskounen\\Anaconda3\\lib\\site-packages\\sklearn\\utils\\validation.py:993: DataConversionWarning: A column-vector y was passed when a 1d array was expected. Please change the shape of y to (n_samples, ), for example using ravel().\n",
      "  y = column_or_1d(y, warn=True)\n"
     ]
    }
   ],
   "source": [
    "lr_l2_balanced = LogisticRegression(class_weight='balanced',penalty='l2',C=0.01)\n",
    "lr_l2_balanced.fit(x_train,y_train)\n",
    "y_pred = lr_l2_balanced.predict(x_test)\n",
    "print(\"Regression Logistic with penalty L2 score with class balanced:\", metrics.accuracy_score(y_test,y_pred))"
   ]
  },
  {
   "cell_type": "code",
   "execution_count": 13,
   "id": "254d3c1a",
   "metadata": {},
   "outputs": [
    {
     "name": "stdout",
     "output_type": "stream",
     "text": [
      "Regression Logistic with penalty L2 score with class cutomize: 0.9823950666401432\n"
     ]
    },
    {
     "name": "stderr",
     "output_type": "stream",
     "text": [
      "C:\\Users\\siskounen\\Anaconda3\\lib\\site-packages\\sklearn\\utils\\validation.py:993: DataConversionWarning: A column-vector y was passed when a 1d array was expected. Please change the shape of y to (n_samples, ), for example using ravel().\n",
      "  y = column_or_1d(y, warn=True)\n"
     ]
    }
   ],
   "source": [
    "lr_l2_custom = LogisticRegression(class_weight={0:0.2,1:0.8},penalty='l2',C=0.01)\n",
    "lr_l2_custom.fit(x_train,y_train)\n",
    "y_pred = lr_l2_custom.predict(x_test)\n",
    "print(\"Regression Logistic with penalty L2 score with class cutomize:\", metrics.accuracy_score(y_test,y_pred))"
   ]
  },
  {
   "cell_type": "markdown",
   "id": "b19d611e",
   "metadata": {},
   "source": [
    "The results obtained by using an L2 penalty are the same as those obtained with the logistical regression with L1 penality (by default)."
   ]
  },
  {
   "cell_type": "markdown",
   "id": "2d42999b",
   "metadata": {},
   "source": [
    "### Roc Curve for Logistic Regression with penalty L2"
   ]
  },
  {
   "cell_type": "code",
   "execution_count": 14,
   "id": "e7dfb08b",
   "metadata": {
    "scrolled": true
   },
   "outputs": [
    {
     "data": {
      "image/png": "[encoded data removed]",
      "text/plain": [
       "<Figure size 432x288 with 1 Axes>"
      ]
     },
     "metadata": {
      "needs_background": "light"
     },
     "output_type": "display_data"
    }
   ],
   "source": [
    "y_pred_proba=lr_l2_custom.predict_proba(x_test)[::,1]\n",
    "fpr , tpr, _ =metrics.roc_curve(y_test,y_pred_proba)\n",
    "auc = metrics.roc_auc_score(y_test,y_pred_proba)\n",
    "plt.plot(fpr,tpr,label= \"auc=\"+str(auc))\n",
    "plt.legend(loc=4)\n",
    "plt.show()"
   ]
  },
  {
   "cell_type": "markdown",
   "id": "e491b52b",
   "metadata": {},
   "source": [
    "### Confusion Matrix for Logistic Regression with penalty L2"
   ]
  },
  {
   "cell_type": "code",
   "execution_count": 15,
   "id": "f49165d9",
   "metadata": {},
   "outputs": [
    {
     "name": "stdout",
     "output_type": "stream",
     "text": [
      "Confusion matrix,without normalization\n",
      "[[9877    0]\n",
      " [ 177    0]]\n",
      "Normalized confusion matrix\n",
      "[[1. 0.]\n",
      " [1. 0.]]\n"
     ]
    },
    {
     "data": {
      "image/png": "[encoded data removed]",
      "text/plain": [
       "<Figure size 432x288 with 2 Axes>"
      ]
     },
     "metadata": {
      "needs_background": "light"
     },
     "output_type": "display_data"
    },
    {
     "data": {
      "image/png": "[encoded data removed]",
      "text/plain": [
       "<Figure size 432x288 with 2 Axes>"
      ]
     },
     "metadata": {
      "needs_background": "light"
     },
     "output_type": "display_data"
    }
   ],
   "source": [
    "titles_options=[(\"Confusion matrix,without normalization\" ,None),(\"Normalized confusion matrix\",\"true\")]\n",
    "for title, normalize in titles_options:\n",
    "    disp = ConfusionMatrixDisplay.from_estimator(\n",
    "    lr_l2_custom,\n",
    "    x_test,\n",
    "    y_test,\n",
    "    ##display_lables = class_names,\n",
    "    cmap = plt.cm.Blues,\n",
    "    normalize = normalize,\n",
    "    )\n",
    "    disp.ax_.set_title(title)\n",
    "    \n",
    "    print(title)\n",
    "    print(disp.confusion_matrix)\n",
    "    \n",
    "plt.show()"
   ]
  },
  {
   "cell_type": "markdown",
   "id": "eea292e0",
   "metadata": {},
   "source": [
    "However, analysis of the ROC curve and confusion matrix indicates that this algorithm has just as much trouble classifying true frauds. But, the area under the ROC curve of logistic regression and more important than that of logistic regression with L2 penality. So, a priori, by imposing an L1 penalty, we better classify real frauds."
   ]
  },
  {
   "cell_type": "markdown",
   "id": "d8292c01",
   "metadata": {},
   "source": [
    "## SVM"
   ]
  },
  {
   "cell_type": "code",
   "execution_count": 16,
   "id": "280ebd33",
   "metadata": {},
   "outputs": [
    {
     "data": {
      "text/plain": [
       "array([-0.99996192, -1.00002974, -0.99986297, ..., -1.00004587,\n",
       "       -0.99986286, -1.00003022])"
      ]
     },
     "execution_count": 16,
     "metadata": {},
     "output_type": "execute_result"
    }
   ],
   "source": [
    "classifier = OneVsRestClassifier(svm.SVC(kernel=\"rbf\" , probability=True, class_weight={0:0.2,1:0.8} ,random_state=random_state))\n",
    "y_score = classifier.fit(x_train, y_train).decision_function(x_test)\n",
    "y_score"
   ]
  },
  {
   "cell_type": "markdown",
   "id": "84415e47",
   "metadata": {},
   "source": [
    "### Roc Curve for SVM"
   ]
  },
  {
   "cell_type": "code",
   "execution_count": 17,
   "id": "2b0491f2",
   "metadata": {
    "scrolled": true
   },
   "outputs": [
    {
     "data": {
      "image/png": "[encoded data removed]",
      "text/plain": [
       "<Figure size 432x288 with 1 Axes>"
      ]
     },
     "metadata": {
      "needs_background": "light"
     },
     "output_type": "display_data"
    }
   ],
   "source": [
    "y_pred_proba=classifier.predict_proba(x_test)[::,1]\n",
    "fpr , tpr, _ =metrics.roc_curve(y_test,y_pred_proba)\n",
    "auc = metrics.roc_auc_score(y_test,y_pred_proba)\n",
    "plt.plot(fpr,tpr,label= \"auc=\"+str(auc))\n",
    "plt.legend(loc=4)\n",
    "plt.show()"
   ]
  },
  {
   "cell_type": "markdown",
   "id": "19aff569",
   "metadata": {},
   "source": [
    "### Confusion Matrix for SVM"
   ]
  },
  {
   "cell_type": "code",
   "execution_count": 18,
   "id": "0d300b51",
   "metadata": {},
   "outputs": [
    {
     "name": "stdout",
     "output_type": "stream",
     "text": [
      "Confusion matrix,without normalization\n",
      "[[9877    0]\n",
      " [ 177    0]]\n",
      "Normalized confusion matrix\n",
      "[[1. 0.]\n",
      " [1. 0.]]\n"
     ]
    },
    {
     "data": {
      "image/png": "[encoded data removed]",
      "text/plain": [
       "<Figure size 432x288 with 2 Axes>"
      ]
     },
     "metadata": {
      "needs_background": "light"
     },
     "output_type": "display_data"
    },
    {
     "data": {
      "image/png": "[encoded data removed]",
      "text/plain": [
       "<Figure size 432x288 with 2 Axes>"
      ]
     },
     "metadata": {
      "needs_background": "light"
     },
     "output_type": "display_data"
    }
   ],
   "source": [
    "titles_options=[(\"Confusion matrix,without normalization\" ,None),(\"Normalized confusion matrix\",\"true\")]\n",
    "for title, normalize in titles_options:\n",
    "    disp = ConfusionMatrixDisplay.from_estimator(\n",
    "    classifier,\n",
    "    x_test,\n",
    "    y_test,\n",
    "    ##display_lables = class_names,\n",
    "    cmap = plt.cm.Blues,\n",
    "    normalize = normalize,\n",
    "    )\n",
    "    disp.ax_.set_title(title)\n",
    "    \n",
    "    print(title)\n",
    "    print(disp.confusion_matrix)\n",
    "    \n",
    "plt.show()"
   ]
  },
  {
   "cell_type": "markdown",
   "id": "85d07bc8",
   "metadata": {},
   "source": [
    "The SVM method is tested with a rbf kernel by imposing a weight of 0.2 for class 0 and 0.8 for class 1, it is found that this method is less efficient than the two previously tested methods."
   ]
  }
 ],
 "metadata": {
  "kernelspec": {
   "display_name": "Python 3 (ipykernel)",
   "language": "python",
   "name": "python3"
  },
  "language_info": {
   "codemirror_mode": {
    "name": "ipython",
    "version": 3
   },
   "file_extension": ".py",
   "mimetype": "text/x-python",
   "name": "python",
   "nbconvert_exporter": "python",
   "pygments_lexer": "ipython3",
   "version": "3.9.12"
  }
 },
 "nbformat": 4,
 "nbformat_minor": 5
}
